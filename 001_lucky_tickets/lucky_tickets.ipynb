{
 "cells": [
  {
   "cell_type": "code",
   "execution_count": 34,
   "id": "4a0f5f68-6b91-4903-849e-2e86809f1809",
   "metadata": {},
   "outputs": [
    {
     "name": "stdout",
     "output_type": "stream",
     "text": [
      "4816030\n"
     ]
    }
   ],
   "source": [
    "\t\t# var \n",
    "\t\t# \tnewLen =  prevArr.length + 9, // длинна следующего массива будет больше на 9\n",
    "\t\t# \tarr = []; // заготовка результата\n",
    "\t\t# for(var i=0; i<newLen; i++){\n",
    "\t\t# \tvar q = 0; // заготовка нового значения\n",
    "\t\t# \tfor(j=0; j<10; j++) // берем 10 нужных значений\n",
    "\t\t# \t\tif(prevArr[i-j]) // ...если они существуют в предыдущем массиве\n",
    "\t\t# \t\t\tq+=prevArr[i-j]; // добавляем\n",
    "\t\t# \tarr[i] = q; // или arr.push(q);\n",
    "\t\t# }\n",
    "\t\t# return arr;\n",
    "        \n",
    "\t# luckyTickets = function(num){ // собственно сам  счетчик\n",
    "\t# \tvar\n",
    "\t# \t\tarr = [], // первый массив\n",
    "\t# \t\tresult = 0; // то, что мы вернем\n",
    "\t# \tfor(i=0;i<10;i++) arr.push(1); // впихиваем в первый массив 10 единиц\n",
    "\t# \tfor(i=0;i<(num/2-1);i++) // нужное количество раз\n",
    "\t# \t\tarr = getNextArr(arr); // строим следующие массивы\n",
    "\t# \tarr.forEach(function(v){ result+=Math.pow(v,2); }); // сводим квадраты значений в получившемся массиве\n",
    "\t# \treturn result;\n",
    "\t# };\n",
    "\n",
    "def get_next_list(previous_list):\n",
    "    new_list_offset = len(previous_list) + 9\n",
    "    new_list = [0 for i in range(0, new_list_offset)]\n",
    "    for i in range(0, new_list_offset):\n",
    "        sum_combinations = 0\n",
    "        for j in range(0, 10):\n",
    "            if (i - j) in range(0, len(previous_list)):\n",
    "                sum_combinations += previous_list[i - j]\n",
    "            else:\n",
    "                continue\n",
    "        new_list[i] = sum_combinations\n",
    "    return new_list\n",
    "\n",
    "def count_lucky(num):\n",
    "    combinations_list = [1, 1, 1, 1, 1, 1, 1, 1, 1, 1,]\n",
    "    lucky_count = 0\n",
    "    for i in range(0, (num - 1)):\n",
    "        combinations_list = get_next_list(combinations_list)\n",
    "    for combination in combinations_list:\n",
    "        lucky_count += combination ** 2\n",
    "    return lucky_count\n",
    "\n",
    "print(count_lucky(4))\n",
    "# first_list = [1, 1, 1, 1, 1, 1, 1, 1, 1, 1,]\n",
    "# print(get_next_list(first_list))"
   ]
  },
  {
   "cell_type": "code",
   "execution_count": 30,
   "id": "337228ec-1abc-44a8-8d0a-e6deda1f2a60",
   "metadata": {},
   "outputs": [
    {
     "ename": "NameError",
     "evalue": "name 'index_in_list' is not defined",
     "output_type": "error",
     "traceback": [
      "\u001b[0;31m---------------------------------------------------------------------------\u001b[0m",
      "\u001b[0;31mNameError\u001b[0m                                 Traceback (most recent call last)",
      "\u001b[0;32m/tmp/ipykernel_36476/27577331.py\u001b[0m in \u001b[0;36m<module>\u001b[0;34m\u001b[0m\n\u001b[1;32m      1\u001b[0m \u001b[0ma\u001b[0m \u001b[0;34m=\u001b[0m \u001b[0;34m[\u001b[0m\u001b[0;36m1\u001b[0m\u001b[0;34m,\u001b[0m \u001b[0;36m2\u001b[0m\u001b[0;34m,\u001b[0m \u001b[0;36m3\u001b[0m\u001b[0;34m]\u001b[0m\u001b[0;34m\u001b[0m\u001b[0;34m\u001b[0m\u001b[0m\n\u001b[1;32m      2\u001b[0m \u001b[0;34m\u001b[0m\u001b[0m\n\u001b[0;32m----> 3\u001b[0;31m \u001b[0mindex_in_list\u001b[0m\u001b[0;34m(\u001b[0m\u001b[0ma\u001b[0m\u001b[0;34m,\u001b[0m \u001b[0;36m1\u001b[0m\u001b[0;34m)\u001b[0m\u001b[0;34m\u001b[0m\u001b[0;34m\u001b[0m\u001b[0m\n\u001b[0m",
      "\u001b[0;31mNameError\u001b[0m: name 'index_in_list' is not defined"
     ]
    }
   ],
   "source": [
    "a = [1, 2, 3]\n",
    "\n"
   ]
  }
 ],
 "metadata": {
  "kernelspec": {
   "display_name": "Python 3 (ipykernel)",
   "language": "python",
   "name": "python3"
  },
  "language_info": {
   "codemirror_mode": {
    "name": "ipython",
    "version": 3
   },
   "file_extension": ".py",
   "mimetype": "text/x-python",
   "name": "python",
   "nbconvert_exporter": "python",
   "pygments_lexer": "ipython3",
   "version": "3.9.7"
  }
 },
 "nbformat": 4,
 "nbformat_minor": 5
}
